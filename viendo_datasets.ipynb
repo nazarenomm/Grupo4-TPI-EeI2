{
 "cells": [
  {
   "cell_type": "code",
   "execution_count": 1,
   "id": "c9afe392",
   "metadata": {},
   "outputs": [],
   "source": [
    "import pandas as pd\n",
    "import seaborn as sns"
   ]
  },
  {
   "cell_type": "code",
   "execution_count": 2,
   "id": "581a5db0",
   "metadata": {},
   "outputs": [],
   "source": [
    "import warnings\n",
    "warnings.filterwarnings(\"ignore\", category=FutureWarning)\n",
    "warnings.filterwarnings(\"ignore\", category=RuntimeWarning)"
   ]
  },
  {
   "cell_type": "markdown",
   "id": "205c13af",
   "metadata": {},
   "source": [
    "## Pizzeria"
   ]
  },
  {
   "cell_type": "code",
   "execution_count": 3,
   "id": "332832b4",
   "metadata": {},
   "outputs": [],
   "source": [
    "df = pd.read_csv('./data/pizza_sales.csv')"
   ]
  },
  {
   "cell_type": "code",
   "execution_count": 4,
   "id": "ca44e3f8",
   "metadata": {},
   "outputs": [],
   "source": [
    "df['order_time'] = pd.to_datetime(df['order_time'], format='%H:%M:%S').dt.time\n",
    "\n",
    "\n",
    "df['day_of_week'] = pd.to_datetime(df['order_date']).dt.day_name()\n",
    "df['hour_of_day'] = pd.to_datetime(df['order_time'], format='%H:%M:%S').dt.hour"
   ]
  },
  {
   "cell_type": "code",
   "execution_count": 5,
   "id": "e977245c",
   "metadata": {},
   "outputs": [
    {
     "data": {
      "image/png": "[encoded data removed]",
      "text/plain": [
       "<Figure size 640x480 with 1 Axes>"
      ]
     },
     "metadata": {},
     "output_type": "display_data"
    }
   ],
   "source": [
    "sns.countplot(x='hour_of_day', data=df);"
   ]
  },
  {
   "cell_type": "markdown",
   "id": "67a7e485",
   "metadata": {},
   "source": [
    "Puede servir para modelos de mezcla. Esto dice el repo:\n",
    "\n",
    " >**Modelo de mezcla de Poisson**: suponga que está monitoreando la cantidad de clientes que ingresan a una tienda cada hora. Un modelo mixto de Poisson puede ayudar a identificar diferentes patrones de tráfico de clientes, como horas o días pico, suponiendo que los datos siguen una combinación de distribuciones de Poisson."
   ]
  },
  {
   "cell_type": "markdown",
   "id": "6b238699",
   "metadata": {},
   "source": [
    "## Startups"
   ]
  },
  {
   "cell_type": "code",
   "execution_count": 6,
   "id": "07645c14",
   "metadata": {},
   "outputs": [],
   "source": [
    "startups = pd.read_csv('./data/startup_data.csv')"
   ]
  },
  {
   "cell_type": "code",
   "execution_count": 7,
   "id": "9da15e6f",
   "metadata": {},
   "outputs": [
    {
     "data": {
      "text/html": [
       "<div>\n",
       "<style scoped>\n",
       "    .dataframe tbody tr th:only-of-type {\n",
       "        vertical-align: middle;\n",
       "    }\n",
       "\n",
       "    .dataframe tbody tr th {\n",
       "        vertical-align: top;\n",
       "    }\n",
       "\n",
       "    .dataframe thead th {\n",
       "        text-align: right;\n",
       "    }\n",
       "</style>\n",
       "<table border=\"1\" class=\"dataframe\">\n",
       "  <thead>\n",
       "    <tr style=\"text-align: right;\">\n",
       "      <th></th>\n",
       "      <th>Startup Name</th>\n",
       "      <th>Industry</th>\n",
       "      <th>Funding Rounds</th>\n",
       "      <th>Funding Amount (M USD)</th>\n",
       "      <th>Valuation (M USD)</th>\n",
       "      <th>Revenue (M USD)</th>\n",
       "      <th>Employees</th>\n",
       "      <th>Market Share (%)</th>\n",
       "      <th>Profitable</th>\n",
       "      <th>Year Founded</th>\n",
       "      <th>Region</th>\n",
       "      <th>Exit Status</th>\n",
       "    </tr>\n",
       "  </thead>\n",
       "  <tbody>\n",
       "    <tr>\n",
       "      <th>0</th>\n",
       "      <td>Startup_1</td>\n",
       "      <td>IoT</td>\n",
       "      <td>1</td>\n",
       "      <td>101.09</td>\n",
       "      <td>844.75</td>\n",
       "      <td>67.87</td>\n",
       "      <td>1468</td>\n",
       "      <td>5.20</td>\n",
       "      <td>0</td>\n",
       "      <td>2006</td>\n",
       "      <td>Europe</td>\n",
       "      <td>Private</td>\n",
       "    </tr>\n",
       "    <tr>\n",
       "      <th>1</th>\n",
       "      <td>Startup_2</td>\n",
       "      <td>EdTech</td>\n",
       "      <td>1</td>\n",
       "      <td>247.62</td>\n",
       "      <td>3310.83</td>\n",
       "      <td>75.65</td>\n",
       "      <td>3280</td>\n",
       "      <td>8.10</td>\n",
       "      <td>1</td>\n",
       "      <td>2003</td>\n",
       "      <td>South America</td>\n",
       "      <td>Private</td>\n",
       "    </tr>\n",
       "    <tr>\n",
       "      <th>2</th>\n",
       "      <td>Startup_3</td>\n",
       "      <td>EdTech</td>\n",
       "      <td>1</td>\n",
       "      <td>109.24</td>\n",
       "      <td>1059.37</td>\n",
       "      <td>84.21</td>\n",
       "      <td>4933</td>\n",
       "      <td>2.61</td>\n",
       "      <td>1</td>\n",
       "      <td>1995</td>\n",
       "      <td>South America</td>\n",
       "      <td>Private</td>\n",
       "    </tr>\n",
       "    <tr>\n",
       "      <th>3</th>\n",
       "      <td>Startup_4</td>\n",
       "      <td>Gaming</td>\n",
       "      <td>5</td>\n",
       "      <td>10.75</td>\n",
       "      <td>101.90</td>\n",
       "      <td>47.08</td>\n",
       "      <td>1059</td>\n",
       "      <td>2.53</td>\n",
       "      <td>0</td>\n",
       "      <td>2003</td>\n",
       "      <td>South America</td>\n",
       "      <td>Private</td>\n",
       "    </tr>\n",
       "    <tr>\n",
       "      <th>4</th>\n",
       "      <td>Startup_5</td>\n",
       "      <td>IoT</td>\n",
       "      <td>4</td>\n",
       "      <td>249.28</td>\n",
       "      <td>850.11</td>\n",
       "      <td>50.25</td>\n",
       "      <td>1905</td>\n",
       "      <td>4.09</td>\n",
       "      <td>0</td>\n",
       "      <td>1997</td>\n",
       "      <td>Europe</td>\n",
       "      <td>Acquired</td>\n",
       "    </tr>\n",
       "  </tbody>\n",
       "</table>\n",
       "</div>"
      ],
      "text/plain": [
       "  Startup Name Industry  Funding Rounds  Funding Amount (M USD)  \\\n",
       "0    Startup_1      IoT               1                  101.09   \n",
       "1    Startup_2   EdTech               1                  247.62   \n",
       "2    Startup_3   EdTech               1                  109.24   \n",
       "3    Startup_4   Gaming               5                   10.75   \n",
       "4    Startup_5      IoT               4                  249.28   \n",
       "\n",
       "   Valuation (M USD)  Revenue (M USD)  Employees  Market Share (%)  \\\n",
       "0             844.75            67.87       1468              5.20   \n",
       "1            3310.83            75.65       3280              8.10   \n",
       "2            1059.37            84.21       4933              2.61   \n",
       "3             101.90            47.08       1059              2.53   \n",
       "4             850.11            50.25       1905              4.09   \n",
       "\n",
       "   Profitable  Year Founded         Region Exit Status  \n",
       "0           0          2006         Europe     Private  \n",
       "1           1          2003  South America     Private  \n",
       "2           1          1995  South America     Private  \n",
       "3           0          2003  South America     Private  \n",
       "4           0          1997         Europe    Acquired  "
      ]
     },
     "execution_count": 7,
     "metadata": {},
     "output_type": "execute_result"
    }
   ],
   "source": [
    "startups.head()"
   ]
  },
  {
   "cell_type": "markdown",
   "id": "5adab400",
   "metadata": {},
   "source": [
    "Podríamos hacer una regresión logística para clasificar ``profitable`` según las variables númericas y agrupando por industria."
   ]
  }
 ],
 "metadata": {
  "kernelspec": {
   "display_name": "ei2",
   "language": "python",
   "name": "python3"
  },
  "language_info": {
   "codemirror_mode": {
    "name": "ipython",
    "version": 3
   },
   "file_extension": ".py",
   "mimetype": "text/x-python",
   "name": "python",
   "nbconvert_exporter": "python",
   "pygments_lexer": "ipython3",
   "version": "3.11.13"
  }
 },
 "nbformat": 4,
 "nbformat_minor": 5
}
